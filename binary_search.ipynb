{
 "cells": [
  {
   "cell_type": "code",
   "execution_count": null,
   "id": "694c0768",
   "metadata": {},
   "outputs": [],
   "source": [
    "# Iterative Binary Search Function method Python Implementation  \n",
    "# It returns index of n in given list1 if present,   \n",
    "# else returns -1   \n",
    "def binary_search(list1, n):  \n",
    "    low = 0  \n",
    "    high = len(list1) - 1  \n",
    "    mid = 0  \n",
    "  \n",
    "    while low <= high:  \n",
    "        # for get integer result   \n",
    "        mid = (high + low) // 2  \n",
    "  \n",
    "        # Check if n is present at mid   \n",
    "        if list1[mid] < n:  \n",
    "            low = mid + 1  \n",
    "  \n",
    "        # If n is greater, compare to the right of mid   \n",
    "        elif list1[mid] > n:  \n",
    "            high = mid - 1  \n",
    "  \n",
    "        # If n is smaller, compared to the left of mid  \n",
    "        else:  \n",
    "            return mid  \n",
    "  \n",
    "            # element was not present in the list, return -1  \n",
    "    return -1  \n",
    "  \n",
    "  \n",
    "# Initial list1  \n",
    "list1 = [12, 24, 32, 39, 45, 50, 54]  \n",
    "n = 50\n",
    "  \n",
    "# Function call   \n",
    "result = binary_search(list1, n)  \n",
    "  \n",
    "if result != -1:  \n",
    "    print(\"Element is present at index\", str(result))  \n",
    "else:  \n",
    "    print(\"Element is not present in list1\")  \n"
   ]
  }
 ],
 "metadata": {
  "kernelspec": {
   "display_name": "Python 3 (ipykernel)",
   "language": "python",
   "name": "python3"
  },
  "language_info": {
   "codemirror_mode": {
    "name": "ipython",
    "version": 3
   },
   "file_extension": ".py",
   "mimetype": "text/x-python",
   "name": "python",
   "nbconvert_exporter": "python",
   "pygments_lexer": "ipython3",
   "version": "3.9.7"
  }
 },
 "nbformat": 4,
 "nbformat_minor": 5
}
