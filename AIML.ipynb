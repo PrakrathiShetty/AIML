{
 "cells": [
  {
   "cell_type": "code",
   "execution_count": 1,
   "id": "e23d8eb0",
   "metadata": {},
   "outputs": [
    {
     "name": "stdout",
     "output_type": "stream",
     "text": [
      "enter a number: 25\n",
      "square root: 5.0\n"
     ]
    }
   ],
   "source": [
    "number = int(input(\"enter a number: \"))\n",
    "sqrt = number ** 0.5\n",
    "print(\"square root:\", sqrt)"
   ]
  },
  {
   "cell_type": "code",
   "execution_count": 4,
   "id": "3a5fc9ff",
   "metadata": {},
   "outputs": [
    {
     "name": "stdout",
     "output_type": "stream",
     "text": [
      "Enter a: 1\n",
      "Enter b: 7\n",
      "Enter c: 12\n",
      "The solution are (-4+0j) and (-3+0j)\n"
     ]
    }
   ],
   "source": [
    "import cmath  \n",
    "a = float(input('Enter a: '))  \n",
    "b = float(input('Enter b: '))  \n",
    "c = float(input('Enter c: '))  \n",
    "  \n",
    "# calculate the discriminant  \n",
    "d = (b**2) - (4*a*c)  \n",
    "  \n",
    "# find two solutions  \n",
    "sol1 = (-b-cmath.sqrt(d))/(2*a)  \n",
    "sol2 = (-b+cmath.sqrt(d))/(2*a)  \n",
    "print('The solution are {0} and {1}'.format(sol1,sol2))   "
   ]
  },
  {
   "cell_type": "code",
   "execution_count": 6,
   "id": "ef3ec237",
   "metadata": {},
   "outputs": [
    {
     "name": "stdout",
     "output_type": "stream",
     "text": [
      "Enter value of x: 4\n",
      "Enter value of y: 5\n",
      "The value of x after swapping: 5\n",
      "The value of y after swapping: 4\n"
     ]
    }
   ],
   "source": [
    "x = input('Enter value of x: ')\n",
    "y = input('Enter value of y: ')\n",
    "\n",
    "# create a temporary variable and swap the values\n",
    "temp = x\n",
    "x = y\n",
    "y = temp\n",
    "\n",
    "print('The value of x after swapping: {}'.format(x))\n",
    "print('The value of y after swapping: {}'.format(y))"
   ]
  },
  {
   "cell_type": "code",
   "execution_count": null,
   "id": "2cb04540",
   "metadata": {},
   "outputs": [],
   "source": [
    "# Python program to check if the number is an Armstrong number or not\n",
    "\n",
    "# take input from the user\n",
    "num = int(input(\"Enter a number: \"))\n",
    "\n",
    "# initialize sum\n",
    "sum = 0\n",
    "\n",
    "# find the sum of the cube of each digit\n",
    "temp = num\n",
    "while temp > 0:\n",
    "   digit = temp % 10\n",
    "   sum += digit ** 3\n",
    "   temp //= 10\n",
    "\n",
    "# display the result\n",
    "if num == sum:\n",
    "   print(num,\"is an Armstrong number\")\n",
    "else:\n",
    "   print(num,\"is not an Armstrong number\")"
   ]
  },
  {
   "cell_type": "code",
   "execution_count": 8,
   "id": "a2f368e4",
   "metadata": {},
   "outputs": [
    {
     "name": "stdout",
     "output_type": "stream",
     "text": [
      "the gcd of 60 and 48 is:12\n"
     ]
    }
   ],
   "source": [
    "import math\n",
    "#prints 12\n",
    "print(\"the gcd of 60 and 48 is:\",end=\"\")\n",
    "print(math.gcd(60,48))"
   ]
  },
  {
   "cell_type": "code",
   "execution_count": 8,
   "id": "ca7686e2",
   "metadata": {},
   "outputs": [
    {
     "name": "stdout",
     "output_type": "stream",
     "text": [
      "enter the number:60\n",
      "enter the number:48\n",
      "the HCF is 12\n"
     ]
    }
   ],
   "source": [
    "#HCF\n",
    "#define a fnction\n",
    "def compute_hcf(x,y):\n",
    "#choose the smaller number\n",
    " if x > y :\n",
    "    smaller=y\n",
    " else:\n",
    "    smaller=x\n",
    " for i in range(1,smaller+1):\n",
    "    if((x%i==0)and (y%i==0)):\n",
    "        hcf=i\n",
    " return hcf\n",
    "num1=int(input(\"enter the number:\"))\n",
    "num2=int(input(\"enter the number:\"))\n",
    "print(\"the HCF is\",compute_hcf(num1,num2))"
   ]
  },
  {
   "cell_type": "code",
   "execution_count": 6,
   "id": "13fcaeee",
   "metadata": {},
   "outputs": [
    {
     "name": "stdout",
     "output_type": "stream",
     "text": [
      "the lcm is:240\n"
     ]
    }
   ],
   "source": [
    "import math\n",
    "print(\"the lcm is:\",end=\"\")\n",
    "print(math.lcm(60,48))"
   ]
  },
  {
   "cell_type": "code",
   "execution_count": 12,
   "id": "c612691d",
   "metadata": {},
   "outputs": [
    {
     "name": "stdout",
     "output_type": "stream",
     "text": [
      "[12, 4, 3]\n",
      "[7, 5, 8]\n"
     ]
    }
   ],
   "source": [
    "# Program to transpose a matrix using a nested loop\n",
    "\n",
    "X = [[12,7],\n",
    "    [4 ,5],\n",
    "    [3 ,8]]\n",
    "\n",
    "result = [[0,0,0],\n",
    "         [0,0,0]]\n",
    "\n",
    "# iterate through rows\n",
    "for i in range(len(X)):\n",
    "   # iterate through columns\n",
    "   for j in range(len(X[0])):\n",
    "       result[j][i] = X[i][j]\n",
    "\n",
    "for r in result:\n",
    "   print(r)"
   ]
  },
  {
   "cell_type": "code",
   "execution_count": 10,
   "id": "679991ec",
   "metadata": {},
   "outputs": [
    {
     "name": "stdout",
     "output_type": "stream",
     "text": [
      "[17, 15, 4]\n",
      "[10, 12, 9]\n",
      "[11, 13, 18]\n"
     ]
    }
   ],
   "source": [
    "X = [[12,7,3],\n",
    "    [4 ,5,6],\n",
    "    [7 ,8,9]]\n",
    "\n",
    "Y = [[5,8,1],\n",
    "    [6,7,3],\n",
    "    [4,5,9]]\n",
    "\n",
    "result = [[0,0,0],\n",
    "         [0,0,0],\n",
    "         [0,0,0]]\n",
    "\n",
    "# iterate through rows\n",
    "for i in range(len(X)):\n",
    "   # iterate through columns\n",
    "   for j in range(len(X[0])):\n",
    "       result[i][j] = X[i][j] + Y[i][j]\n",
    "\n",
    "for r in result:\n",
    "   print(r)"
   ]
  },
  {
   "cell_type": "code",
   "execution_count": 11,
   "id": "761e7ec9",
   "metadata": {},
   "outputs": [
    {
     "name": "stdout",
     "output_type": "stream",
     "text": [
      "{1: 1, 3: 4, 2: 9}\n"
     ]
    }
   ],
   "source": [
    "dict1 = {1: 1, 2: 9, 3: 4}\n",
    "sorted_values = sorted(dict1.values()) # Sort the values\n",
    "sorted_dict = {}\n",
    "\n",
    "for i in sorted_values:\n",
    "    for k in dict1.keys():\n",
    "        if dict1[k] == i:\n",
    "            sorted_dict[k] = dict1[k]\n",
    "\n",
    "print(sorted_dict)"
   ]
  },
  {
   "cell_type": "code",
   "execution_count": 13,
   "id": "700fbdac",
   "metadata": {},
   "outputs": [
    {
     "name": "stdout",
     "output_type": "stream",
     "text": [
      "2014-07-01 14:43:00\n"
     ]
    }
   ],
   "source": [
    "from datetime import datetime\n",
    "date_object = datetime.strptime('Jul 1 2014 2:43PM', '%b %d %Y %I:%M%p')\n",
    "print(date_object)"
   ]
  },
  {
   "cell_type": "code",
   "execution_count": 14,
   "id": "6ee71af7",
   "metadata": {},
   "outputs": [
    {
     "name": "stdout",
     "output_type": "stream",
     "text": [
      "Reversed Number: 4321\n"
     ]
    }
   ],
   "source": [
    "num = 1234\n",
    "reversed_num = 0\n",
    "\n",
    "while num != 0:\n",
    "    digit = num % 10\n",
    "    reversed_num = reversed_num * 10 + digit\n",
    "    num //= 10\n",
    "\n",
    "print(\"Reversed Number: \" + str(reversed_num))"
   ]
  },
  {
   "cell_type": "code",
   "execution_count": 15,
   "id": "de4deab2",
   "metadata": {},
   "outputs": [
    {
     "name": "stdout",
     "output_type": "stream",
     "text": [
      "Answer = 81\n"
     ]
    }
   ],
   "source": [
    "base = 3\n",
    "exponent = 4\n",
    "\n",
    "result = 1\n",
    "\n",
    "while exponent != 0:\n",
    "    result *= base\n",
    "    exponent-=1\n",
    "\n",
    "print(\"Answer = \" + str(result))"
   ]
  },
  {
   "cell_type": "code",
   "execution_count": 17,
   "id": "21c01fee",
   "metadata": {},
   "outputs": [
    {
     "name": "stdout",
     "output_type": "stream",
     "text": [
      "stop1\n"
     ]
    }
   ],
   "source": [
    "import time\n",
    "\n",
    "def countdown(time_sec):\n",
    "    while time_sec:\n",
    "        mins, secs = divmod(time_sec, 60)\n",
    "        timeformat = '{:02d}:{:02d}'.format(mins, secs)\n",
    "        print(timeformat, end='\\r')\n",
    "        time.sleep(1)\n",
    "        time_sec -= 1\n",
    "\n",
    "    print(\"stop\")\n",
    "\n",
    "countdown(5)"
   ]
  },
  {
   "cell_type": "code",
   "execution_count": 1,
   "id": "92d9e4a6",
   "metadata": {},
   "outputs": [
    {
     "name": "stdout",
     "output_type": "stream",
     "text": [
      "<class 'bytes'>\n",
      "<class 'str'>\n",
      "Lets eat a 🍕!\n"
     ]
    }
   ],
   "source": [
    "byteData = b\"Lets eat a \\xf0\\x9f\\x8d\\x95!\"  \n",
    "# Let's check the type  \n",
    "print(type(byteData))  \n",
    "str1 = byteData.decode('UTF-8')  \n",
    "print(type(str1))  \n",
    "print(str1)  "
   ]
  },
  {
   "cell_type": "code",
   "execution_count": 2,
   "id": "d8b82a1e",
   "metadata": {},
   "outputs": [
    {
     "name": "stdout",
     "output_type": "stream",
     "text": [
      "\n",
      "Input:\n",
      "b'ComputerScience'\n",
      "<class 'bytes'>\n",
      "\n",
      "Output:\n",
      "ComputerScience\n",
      "<class 'str'>\n"
     ]
    }
   ],
   "source": [
    "#program to convert byte to string\n",
    "# Program for converting bytes\n",
    "# to string using decode()\n",
    "\n",
    "data = b'ComputerScience'\n",
    "\n",
    "# display input\n",
    "print('\\nInput:')\n",
    "print(data)\n",
    "print(type(data))\n",
    "\n",
    "# converting\n",
    "output = data.decode()\n",
    "\n",
    "# display output\n",
    "print('\\nOutput:')\n",
    "print(output)\n",
    "print(type(output))\n"
   ]
  },
  {
   "cell_type": "code",
   "execution_count": 6,
   "id": "eacf59df",
   "metadata": {},
   "outputs": [],
   "source": [
    "# Python program to merge two files \n",
    "data = data2 = \"\" \n",
    "  \n",
    "# Reading data from first file \n",
    "with open('f1.txt') as fp: \n",
    "    data= fp.read() \n",
    "with open('f2.txt') as fp: \n",
    "    data2 = fp.read() \n",
    "# Merging two files into one another file \n",
    "data += \"\\n\"\n",
    "data += data2 \n",
    "with open ('f3.txt', 'w') as fp: \n",
    "    fp.write(data)"
   ]
  },
  {
   "cell_type": "code",
   "execution_count": 17,
   "id": "5dc48ae5",
   "metadata": {},
   "outputs": [
    {
     "name": "stdout",
     "output_type": "stream",
     "text": [
      "Following the BFS\n",
      "1 2 10 3 8 4 9 5 6 7 "
     ]
    }
   ],
   "source": [
    "graph={\n",
    "    '1':['2','10'],\n",
    "    '2':['3','8'],\n",
    "    '3':['4'],\n",
    "    '4':['5','6','7'],\n",
    "    '5':[],\n",
    "    '6':[],\n",
    "    '7':[],\n",
    "    '8':['9'],\n",
    "    '9':[],\n",
    "    '10':[]\n",
    "}\n",
    "visited=[]\n",
    "queue=[]\n",
    "def bfs(visited,graph,node):\n",
    "    visited.append(node)\n",
    "    queue.append(node)\n",
    "    while queue:\n",
    "        m=queue.pop(0)\n",
    "        print(m,end=\" \")\n",
    "        for neighbour in graph[m]:\n",
    "            if neighbour not in visited:\n",
    "                visited.append(neighbour)\n",
    "                queue.append(neighbour)\n",
    "print(\"Following the BFS\")\n",
    "bfs(visited,graph,'1')"
   ]
  },
  {
   "cell_type": "code",
   "execution_count": 2,
   "id": "9200755d",
   "metadata": {},
   "outputs": [
    {
     "name": "stdout",
     "output_type": "stream",
     "text": [
      "Following is the Depth-First Search\n",
      "5\n",
      "3\n",
      "2\n",
      "1\n",
      "4\n",
      "8\n",
      "7\n",
      "6\n"
     ]
    }
   ],
   "source": [
    "# Using a Python dictionary to act as an adjacency list\n",
    "graph = {\n",
    "    '5' : ['3','7'],\n",
    "    '3' : ['2', '4'],\n",
    "    '7' : ['6'],\n",
    "    '6': [],\n",
    "    '2' : ['1'],\n",
    "    '1':[],\n",
    "    '4' : ['8'],\n",
    "    '8' : []\n",
    "}\n",
    "visited = set() # Set to keep track of visited nodes of graph.\n",
    "def dfs(visited, graph, node): #function for dfs\n",
    "    if node not in visited:\n",
    "        print (node)\n",
    "        visited.add(node)\n",
    "        for neighbour in graph[node]:\n",
    "            dfs(visited, graph, neighbour)\n",
    "\n",
    "# Driver Code\n",
    "print(\"Following is the Depth-First Search\")\n",
    "dfs(visited, graph, '5')"
   ]
  },
  {
   "cell_type": "code",
   "execution_count": 3,
   "id": "1216b294",
   "metadata": {},
   "outputs": [
    {
     "name": "stdout",
     "output_type": "stream",
     "text": [
      "Element is present at index 5\n"
     ]
    }
   ],
   "source": [
    "# Iterative Binary Search Function method Python Implementation  \n",
    "# It returns index of n in given list1 if present,   \n",
    "# else returns -1   \n",
    "def binary_search(list1, n):  \n",
    "    low = 0  \n",
    "    high = len(list1) - 1  \n",
    "    mid = 0  \n",
    "  \n",
    "    while low <= high:  \n",
    "        # for get integer result   \n",
    "        mid = (high + low) // 2  \n",
    "  \n",
    "        # Check if n is present at mid   \n",
    "        if list1[mid] < n:  \n",
    "            low = mid + 1  \n",
    "  \n",
    "        # If n is greater, compare to the right of mid   \n",
    "        elif list1[mid] > n:  \n",
    "            high = mid - 1  \n",
    "  \n",
    "        # If n is smaller, compared to the left of mid  \n",
    "        else:  \n",
    "            return mid  \n",
    "  \n",
    "            # element was not present in the list, return -1  \n",
    "    return -1  \n",
    "  \n",
    "  \n",
    "# Initial list1  \n",
    "list1 = [12, 24, 32, 39, 45, 50, 54]  \n",
    "n = 50\n",
    "  \n",
    "# Function call   \n",
    "result = binary_search(list1, n)  \n",
    "  \n",
    "if result != -1:  \n",
    "    print(\"Element is present at index\", str(result))  \n",
    "else:  \n",
    "    print(\"Element is not present in list1\")  \n"
   ]
  },
  {
   "cell_type": "code",
   "execution_count": 3,
   "id": "80cf01e5",
   "metadata": {
    "scrolled": true
   },
   "outputs": [
    {
     "name": "stdout",
     "output_type": "stream",
     "text": [
      "enter the number of nodes:4\n",
      "Enter the number of edges:5\n",
      "Enter the edges along with their weights\n",
      "0 1 1\n",
      "0 2 1\n",
      "0 3 2\n",
      "2 3 2\n",
      "1 3 3\n",
      "Enter the source node:2\n",
      "enter the target/destination node:1\n",
      "\n",
      "Path:201\n"
     ]
    }
   ],
   "source": [
    "from queue import PriorityQueue\n",
    "import matplotlib.pyplot as plt\n",
    "import networkx as nx\n",
    "def best_first_search(source,target,n):\n",
    "    visited=[0]*n\n",
    "    visited[source]=True\n",
    "    pq=PriorityQueue()\n",
    "    pq.put((0,source))\n",
    "    while pq.empty()==False:\n",
    "        u=pq.get()[1]\n",
    "        print(u,end=\"\")\n",
    "        if u==target:\n",
    "            break\n",
    "        for v,c in graph[u]:\n",
    "            if visited[v]==False:\n",
    "                visited[v]=True\n",
    "                pq.put((c,v))\n",
    "    print()\n",
    "def addedge(x,y,cost):\n",
    "    graph[x].append((y,cost))\n",
    "    graph[y].append((x,cost))\n",
    "    \n",
    "v=int(input(\"enter the number of nodes:\"))\n",
    "graph=[[] for i in range(v)]\n",
    "e=int(input(\"Enter the number of edges:\"))\n",
    "print(\"Enter the edges along with their weights\")\n",
    "for i in range(e):\n",
    "    x,y,z=list(map(int,input().split()))\n",
    "    addedge(x,y,z)\n",
    "source=int(input(\"Enter the source node:\"))\n",
    "target=int(input(\"enter the target/destination node:\"))\n",
    "print(\"\\nPath:\",end=\"\")\n",
    "best_first_search(source,target,v)"
   ]
  },
  {
   "cell_type": "code",
   "execution_count": 9,
   "id": "395b9b70",
   "metadata": {},
   "outputs": [
    {
     "name": "stdout",
     "output_type": "stream",
     "text": [
      "steps:\n",
      "0 0\n",
      "4 0\n",
      "4 3\n",
      "0 3\n",
      "3 0\n",
      "3 3\n",
      "4 2\n",
      "0 2\n"
     ]
    },
    {
     "data": {
      "text/plain": [
       "True"
      ]
     },
     "execution_count": 9,
     "metadata": {},
     "output_type": "execute_result"
    }
   ],
   "source": [
    "from collections import defaultdict\n",
    "jug1,jug2,aim=4,3,2\n",
    "visited=defaultdict(lambda:False)\n",
    "def waterJugSolver(amt1,amt2):\n",
    "    if(amt1==aim and amt2==0)or(amt2==aim and amt1==0):\n",
    "        print(amt1,amt2)\n",
    "        return True\n",
    "    if visited[(amt1,amt2)]==False:\n",
    "        print(amt1,amt2)\n",
    "        visited[(amt1,amt2)]=True\n",
    "        return(waterJugSolver(0,amt2)or\n",
    "            waterJugSolver(amt1,0)or\n",
    "            waterJugSolver(jug1,amt2)or\n",
    "            waterJugSolver(amt1,jug2)or\n",
    "            waterJugSolver(amt1+min(amt2,(jug1-amt1)),\n",
    "            amt2-min(amt2,(jug1-amt1))) or\n",
    "            waterJugSolver(amt1-min(amt1,(jug2-amt2)),\n",
    "            amt2+min(amt1,(jug2-amt2))))\n",
    "    else:\n",
    "        return False\n",
    "print(\"steps:\")\n",
    "waterJugSolver(0,0)\n",
    "    "
   ]
  },
  {
   "cell_type": "code",
   "execution_count": 13,
   "id": "ddad11b0",
   "metadata": {},
   "outputs": [
    {
     "name": "stdout",
     "output_type": "stream",
     "text": [
      "Move desk 1 from source A to destination B\n",
      "Move disk 2 form source A to destination C\n",
      "Move desk 1 from source B to destination C\n",
      "Move disk 3 form source A to destination B\n",
      "Move desk 1 from source C to destination A\n",
      "Move disk 2 form source C to destination B\n",
      "Move desk 1 from source A to destination B\n"
     ]
    }
   ],
   "source": [
    "def TowerOfHanoi(n,source,destination,auxiliary):\n",
    "    if n==1:\n",
    "        print(\"Move desk 1 from source\",source,\"to destination\",destination)\n",
    "        return\n",
    "    TowerOfHanoi(n-1,source,auxiliary,destination)\n",
    "    print(\"Move disk\",n,\"form source\",source,\"to destination\",destination)\n",
    "    TowerOfHanoi(n-1,auxiliary,destination,source)\n",
    "n=3\n",
    "TowerOfHanoi(n,'A','B','C')"
   ]
  },
  {
   "cell_type": "code",
   "execution_count": 2,
   "id": "c8ef996d",
   "metadata": {
    "scrolled": false
   },
   "outputs": [
    {
     "name": "stdout",
     "output_type": "stream",
     "text": [
      "[[0 0 0]\n",
      " [0 0 0]\n",
      " [0 0 0]]\n",
      "Board after board1move\n",
      "[[0 0 0]\n",
      " [0 1 0]\n",
      " [0 0 0]]\n",
      "Board after board2move\n",
      "[[0 0 0]\n",
      " [2 1 0]\n",
      " [0 0 0]]\n",
      "Board after board3move\n",
      "[[0 0 0]\n",
      " [2 1 1]\n",
      " [0 0 0]]\n",
      "Board after board4move\n",
      "[[0 0 2]\n",
      " [2 1 1]\n",
      " [0 0 0]]\n",
      "Board after board5move\n",
      "[[0 1 2]\n",
      " [2 1 1]\n",
      " [0 0 0]]\n",
      "Board after board6move\n",
      "[[0 1 2]\n",
      " [2 1 1]\n",
      " [2 0 0]]\n",
      "Board after board7move\n",
      "[[1 1 2]\n",
      " [2 1 1]\n",
      " [2 0 0]]\n",
      "Board after board8move\n",
      "[[1 1 2]\n",
      " [2 1 1]\n",
      " [2 0 2]]\n",
      "Board after board9move\n",
      "[[1 1 2]\n",
      " [2 1 1]\n",
      " [2 1 2]]\n",
      "Winner is:1\n"
     ]
    }
   ],
   "source": [
    "import numpy as np\n",
    "import random\n",
    "from time import sleep\n",
    "def create_board():\n",
    "    return(np.array([[0,0,0],\n",
    "                     [0,0,0],\n",
    "                     [0,0,0]]))\n",
    "def possibilities(board):\n",
    "    l=[]\n",
    "    for i in range(len(board)):\n",
    "        for j in range(len(board)):\n",
    "            if board[i][j]==0:\n",
    "                l.append((i,j))          \n",
    "    return(l)\n",
    "\n",
    "def random_place(board,player):\n",
    "    selection=possibilities(board)\n",
    "    current_loc=random.choice(selection)\n",
    "    board[current_loc]=player\n",
    "    return(board)\n",
    "def row_win(board,player):\n",
    "    for x in range(len(board)):\n",
    "        win=True\n",
    "        for y in range(len(board)):\n",
    "            if board[x,y]!=player:\n",
    "                win=False\n",
    "                continue\n",
    "        if win==True:\n",
    "            return(win)\n",
    "    return(win)\n",
    "\n",
    "def col_win(board,player):\n",
    "    for x in range(len(board)):\n",
    "        win=True\n",
    "        for y in range(len(board)):\n",
    "            if board[y][x]!=player:\n",
    "                win=False\n",
    "                continue\n",
    "        if win==True:\n",
    "            return(win)\n",
    "    return(win)\n",
    "\n",
    "def diag_win(board,player):\n",
    "    win=True\n",
    "    y=0\n",
    "    for x in range(len(board)):\n",
    "        if board[x,x]!=player:\n",
    "            win=False\n",
    "    if win:\n",
    "        return win\n",
    "    win=True\n",
    "    if win:\n",
    "        for x in range(len(board)):\n",
    "            y=len(board)-1-x\n",
    "            if board[x,y]!=player:\n",
    "                win=False\n",
    "        return win\n",
    "    \n",
    "def evaluate(board):\n",
    "    winner=0\n",
    "    for player in[1,2]:\n",
    "        if(row_win(board,player)or\n",
    "          col_win(board,player)or\n",
    "          diag_win(board,player)):\n",
    "            winner=player\n",
    "    if np.all(board!=0)and winner==0:\n",
    "        winner=-1\n",
    "    return winner\n",
    "\n",
    "def play_game():\n",
    "    board,winner,counter=create_board(),0,1\n",
    "    print(board)\n",
    "    sleep(2)\n",
    "    while winner==0:\n",
    "        for player in[1,2]:\n",
    "            board=random_place(board,player)\n",
    "            print(\"Board after board\" + str(counter) + \"move\")\n",
    "            print(board)\n",
    "            sleep(2)\n",
    "            counter+=1\n",
    "            winner=evaluate(board)\n",
    "            if winner!=0:\n",
    "                break\n",
    "    return(winner)\n",
    "print(\"Winner is:\" + str(play_game()))"
   ]
  },
  {
   "cell_type": "code",
   "execution_count": 10,
   "id": "e851c65c",
   "metadata": {},
   "outputs": [
    {
     "ename": "TypeError",
     "evalue": "unsupported operand type(s) for +: 'int' and 'node'",
     "output_type": "error",
     "traceback": [
      "\u001b[1;31m---------------------------------------------------------------------------\u001b[0m",
      "\u001b[1;31mTypeError\u001b[0m                                 Traceback (most recent call last)",
      "\u001b[1;32m~\\AppData\\Local\\Temp/ipykernel_5160/1513980371.py\u001b[0m in \u001b[0;36m<module>\u001b[1;34m\u001b[0m\n\u001b[0;32m     84\u001b[0m \u001b[0mfinal\u001b[0m \u001b[1;33m=\u001b[0m \u001b[1;33m[\u001b[0m \u001b[1;33m[\u001b[0m \u001b[1;36m1\u001b[0m\u001b[1;33m,\u001b[0m \u001b[1;36m2\u001b[0m\u001b[1;33m,\u001b[0m \u001b[1;36m3\u001b[0m \u001b[1;33m]\u001b[0m\u001b[1;33m,\u001b[0m\u001b[1;33m[\u001b[0m \u001b[1;36m5\u001b[0m\u001b[1;33m,\u001b[0m \u001b[1;36m8\u001b[0m\u001b[1;33m,\u001b[0m \u001b[1;36m6\u001b[0m \u001b[1;33m]\u001b[0m\u001b[1;33m,\u001b[0m\u001b[1;33m[\u001b[0m \u001b[1;36m0\u001b[0m\u001b[1;33m,\u001b[0m \u001b[1;36m7\u001b[0m\u001b[1;33m,\u001b[0m \u001b[1;36m4\u001b[0m \u001b[1;33m]\u001b[0m \u001b[1;33m]\u001b[0m\u001b[1;33m\u001b[0m\u001b[1;33m\u001b[0m\u001b[0m\n\u001b[0;32m     85\u001b[0m \u001b[0mempty_tile_pos\u001b[0m \u001b[1;33m=\u001b[0m \u001b[1;33m[\u001b[0m \u001b[1;36m1\u001b[0m\u001b[1;33m,\u001b[0m \u001b[1;36m2\u001b[0m \u001b[1;33m]\u001b[0m\u001b[1;33m\u001b[0m\u001b[1;33m\u001b[0m\u001b[0m\n\u001b[1;32m---> 86\u001b[1;33m \u001b[0msolve\u001b[0m\u001b[1;33m(\u001b[0m\u001b[0minitial\u001b[0m\u001b[1;33m,\u001b[0m \u001b[0mempty_tile_pos\u001b[0m\u001b[1;33m,\u001b[0m \u001b[0mfinal\u001b[0m\u001b[1;33m)\u001b[0m\u001b[1;33m\u001b[0m\u001b[1;33m\u001b[0m\u001b[0m\n\u001b[0m",
      "\u001b[1;32m~\\AppData\\Local\\Temp/ipykernel_5160/3091989315.py\u001b[0m in \u001b[0;36msolve\u001b[1;34m(initial, empty_tile_pos, final)\u001b[0m\n\u001b[0;32m     80\u001b[0m             \u001b[1;32mif\u001b[0m \u001b[0misSafe\u001b[0m\u001b[1;33m(\u001b[0m\u001b[0mnew_tile_pos\u001b[0m\u001b[1;33m[\u001b[0m\u001b[1;36m0\u001b[0m\u001b[1;33m]\u001b[0m\u001b[1;33m,\u001b[0m \u001b[0mnew_tile_pos\u001b[0m\u001b[1;33m[\u001b[0m\u001b[1;36m1\u001b[0m\u001b[1;33m]\u001b[0m\u001b[1;33m)\u001b[0m\u001b[1;33m:\u001b[0m\u001b[1;33m\u001b[0m\u001b[1;33m\u001b[0m\u001b[0m\n\u001b[0;32m     81\u001b[0m                 child=newNode(minimum.mat,minimum.empty_tile_pos,new_tile_pos,\n\u001b[1;32m---> 82\u001b[1;33m                         minimum.level + minimum, final,)\n\u001b[0m\u001b[0;32m     83\u001b[0m                 \u001b[0mpq\u001b[0m\u001b[1;33m.\u001b[0m\u001b[0mpush\u001b[0m\u001b[1;33m(\u001b[0m\u001b[0mchild\u001b[0m\u001b[1;33m)\u001b[0m\u001b[1;33m\u001b[0m\u001b[1;33m\u001b[0m\u001b[0m\n\u001b[0;32m     84\u001b[0m \u001b[0minitial\u001b[0m \u001b[1;33m=\u001b[0m \u001b[1;33m[\u001b[0m \u001b[1;33m[\u001b[0m \u001b[1;36m1\u001b[0m\u001b[1;33m,\u001b[0m \u001b[1;36m2\u001b[0m\u001b[1;33m,\u001b[0m \u001b[1;36m3\u001b[0m \u001b[1;33m]\u001b[0m\u001b[1;33m,\u001b[0m\u001b[1;33m[\u001b[0m \u001b[1;36m5\u001b[0m\u001b[1;33m,\u001b[0m \u001b[1;36m6\u001b[0m\u001b[1;33m,\u001b[0m \u001b[1;36m0\u001b[0m \u001b[1;33m]\u001b[0m\u001b[1;33m,\u001b[0m\u001b[1;33m[\u001b[0m \u001b[1;36m7\u001b[0m\u001b[1;33m,\u001b[0m \u001b[1;36m8\u001b[0m\u001b[1;33m,\u001b[0m \u001b[1;36m4\u001b[0m \u001b[1;33m]\u001b[0m \u001b[1;33m]\u001b[0m\u001b[1;33m\u001b[0m\u001b[1;33m\u001b[0m\u001b[0m\n",
      "\u001b[1;31mTypeError\u001b[0m: unsupported operand type(s) for +: 'int' and 'node'"
     ]
    }
   ],
   "source": [
    "import copy\n",
    "from heapq import heappush, heappop\n",
    "n = 3\n",
    "row = [ 1, 0, -1, 0 ]\n",
    "col = [ 0, -1, 0, 1 ]\n",
    "\n",
    "class priorityQueue:\n",
    "    def __init__(self):\n",
    "        self.heap = []\n",
    "    def push(self, k):\n",
    "        heappush(self.heap, k)\n",
    "    def pop(self):\n",
    "        return heappop(self.heap)\n",
    "    def empty(self):\n",
    "        if not self.heap:\n",
    "            return True\n",
    "        else:\n",
    "            return False\n",
    "\n",
    "class node:\n",
    "    def __init__(self, parent, mat, empty_tile_pos,cost, level):\n",
    "        self.parent = parent\n",
    "        self.mat = mat\n",
    "        self.empty_tile_pos = empty_tile_pos\n",
    "        self.cost = cost\n",
    "        self.level = level\n",
    "    def __lt__(self, nxt):\n",
    "        return self.cost < nxt.cost\n",
    "    \n",
    "    def calculateCost(mat, final) -> int:\n",
    "        count = 0\n",
    "        for i in range(n):\n",
    "            for j in range(n):\n",
    "                if ((mat[i][j]) and (mat[i][j] != final[i][j])):\n",
    "                    count += 1\n",
    "                    return count\n",
    "\n",
    "    def newNode(mat, empty_tile_pos, new_empty_tile_pos,level, parent, final) -> node:\n",
    "        new_mat = copy.deepcopy(mat)\n",
    "        x1 = empty_tile_pos[0]\n",
    "        y1 = empty_tile_pos[1]\n",
    "        x2 = new_empty_tile_pos[0]\n",
    "        y2 = new_empty_tile_pos[1]\n",
    "        new_mat[x1][y1], new_mat[x2][y2] = new_mat[x2][y2], new_mat[x1][y1]\n",
    "        cost = calculateCost(new_mat, final)\n",
    "        new_node = node(parent, new_mat, new_empty_tile_pos,cost, level)\n",
    "        return new_node\n",
    "\n",
    "    def printMatrix(mat):\n",
    "        for i in range(n):\n",
    "            for j in range(n):\n",
    "                print(\"%d \" % (mat[i][j]), end = \" \")\n",
    "                print()\n",
    "    \n",
    "    def isSafe(x, y):\n",
    "        return x >= 0 and x < n and y >= 0 and y < n\n",
    "\n",
    "    def printPath(root):\n",
    "        if root == None:\n",
    "            return\n",
    "        printPath(root.parent)\n",
    "        printMatrix(root.mat)\n",
    "\n",
    "\n",
    "    def solve(initial, empty_tile_pos, final):\n",
    "        pq = priorityQueue()\n",
    "    \n",
    "        cost = calculateCost(initial, final)\n",
    "        root = node(None, initial,empty_tile_pos, cost, 0)\n",
    "        pq.push(root)\n",
    "        while not pq.empty():\n",
    "            minimum = pq.pop()\n",
    "            if minimum.cost == 0:\n",
    "                printPath(minimum)\n",
    "                return\n",
    "        for i in range(n):\n",
    "            new_tile_pos = [minimum.empty_tile_pos[0] + row[i],\n",
    "                            minimum.empty_tile_pos[1] + col[i], ]\n",
    "            if isSafe(new_tile_pos[0], new_tile_pos[1]):\n",
    "                child=newNode(minimum.mat,minimum.empty_tile_pos,new_tile_pos,minimum.level +minimum, final,)\n",
    "                pq.push(child)\n",
    "initial = [ [ 1, 2, 3 ],[ 5, 6, 0 ],[ 7, 8, 4 ] ]\n",
    "final = [ [ 1, 2, 3 ],[ 5, 8, 6 ],[ 0, 7, 4 ] ]\n",
    "empty_tile_pos = [ 1, 2 ]\n",
    "solve(initial, empty_tile_pos, final)"
   ]
  },
  {
   "cell_type": "code",
   "execution_count": 12,
   "id": "d3b77236",
   "metadata": {},
   "outputs": [
    {
     "name": "stdout",
     "output_type": "stream",
     "text": [
      "80\n"
     ]
    }
   ],
   "source": [
    "from sys import maxsize\n",
    "from itertools import permutations\n",
    "V = 4\n",
    "\n",
    "def travellingSalesmanProblem(graph, s):\n",
    "    vertex = []\n",
    "    for i in range(V):\n",
    "        if i != s:\n",
    "            vertex.append(i)\n",
    "        min_path = maxsize\n",
    "        next_permutation=permutations(vertex)\n",
    "        for i in next_permutation:\n",
    "            current_pathweight = 0\n",
    "            k = s\n",
    "            for j in i:\n",
    "                current_pathweight += graph[k][j]\n",
    "                k = j\n",
    "            current_pathweight += graph[k][s]\n",
    "            min_path = min(min_path, current_pathweight)\n",
    "    return min_path\n",
    "\n",
    "# Driver Code\n",
    "if __name__ == \"__main__\":\n",
    "    graph = [[0, 10, 15, 20], [10, 0, 35, 25],\n",
    "             [15, 35, 0, 30], [20, 25, 30, 0]]\n",
    "    s = 0\n",
    "    print(travellingSalesmanProblem(graph, s))"
   ]
  },
  {
   "cell_type": "code",
   "execution_count": null,
   "id": "d6dc2d2c",
   "metadata": {},
   "outputs": [],
   "source": []
  }
 ],
 "metadata": {
  "kernelspec": {
   "display_name": "Python 3 (ipykernel)",
   "language": "python",
   "name": "python3"
  },
  "language_info": {
   "codemirror_mode": {
    "name": "ipython",
    "version": 3
   },
   "file_extension": ".py",
   "mimetype": "text/x-python",
   "name": "python",
   "nbconvert_exporter": "python",
   "pygments_lexer": "ipython3",
   "version": "3.9.7"
  }
 },
 "nbformat": 4,
 "nbformat_minor": 5
}
