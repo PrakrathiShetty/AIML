{
 "cells": [
  {
   "cell_type": "code",
   "execution_count": 1,
   "id": "e23d8eb0",
   "metadata": {},
   "outputs": [
    {
     "name": "stdout",
     "output_type": "stream",
     "text": [
      "enter a number: 25\n",
      "square root: 5.0\n"
     ]
    }
   ],
   "source": [
    "number = int(input(\"enter a number: \"))\n",
    "sqrt = number ** 0.5\n",
    "print(\"square root:\", sqrt)"
   ]
  },
  {
   "cell_type": "code",
   "execution_count": 4,
   "id": "3a5fc9ff",
   "metadata": {},
   "outputs": [
    {
     "name": "stdout",
     "output_type": "stream",
     "text": [
      "Enter a: 1\n",
      "Enter b: 7\n",
      "Enter c: 12\n",
      "The solution are (-4+0j) and (-3+0j)\n"
     ]
    }
   ],
   "source": [
    "import cmath  \n",
    "a = float(input('Enter a: '))  \n",
    "b = float(input('Enter b: '))  \n",
    "c = float(input('Enter c: '))  \n",
    "  \n",
    "# calculate the discriminant  \n",
    "d = (b**2) - (4*a*c)  \n",
    "  \n",
    "# find two solutions  \n",
    "sol1 = (-b-cmath.sqrt(d))/(2*a)  \n",
    "sol2 = (-b+cmath.sqrt(d))/(2*a)  \n",
    "print('The solution are {0} and {1}'.format(sol1,sol2))   "
   ]
  },
  {
   "cell_type": "code",
   "execution_count": 6,
   "id": "ef3ec237",
   "metadata": {},
   "outputs": [
    {
     "name": "stdout",
     "output_type": "stream",
     "text": [
      "Enter value of x: 4\n",
      "Enter value of y: 5\n",
      "The value of x after swapping: 5\n",
      "The value of y after swapping: 4\n"
     ]
    }
   ],
   "source": [
    "x = input('Enter value of x: ')\n",
    "y = input('Enter value of y: ')\n",
    "\n",
    "# create a temporary variable and swap the values\n",
    "temp = x\n",
    "x = y\n",
    "y = temp\n",
    "\n",
    "print('The value of x after swapping: {}'.format(x))\n",
    "print('The value of y after swapping: {}'.format(y))"
   ]
  },
  {
   "cell_type": "code",
   "execution_count": null,
   "id": "2cb04540",
   "metadata": {},
   "outputs": [],
   "source": [
    "# Python program to check if the number is an Armstrong number or not\n",
    "\n",
    "# take input from the user\n",
    "num = int(input(\"Enter a number: \"))\n",
    "\n",
    "# initialize sum\n",
    "sum = 0\n",
    "\n",
    "# find the sum of the cube of each digit\n",
    "temp = num\n",
    "while temp > 0:\n",
    "   digit = temp % 10\n",
    "   sum += digit ** 3\n",
    "   temp //= 10\n",
    "\n",
    "# display the result\n",
    "if num == sum:\n",
    "   print(num,\"is an Armstrong number\")\n",
    "else:\n",
    "   print(num,\"is not an Armstrong number\")"
   ]
  },
  {
   "cell_type": "code",
   "execution_count": 8,
   "id": "a2f368e4",
   "metadata": {},
   "outputs": [
    {
     "name": "stdout",
     "output_type": "stream",
     "text": [
      "the gcd of 60 and 48 is:12\n"
     ]
    }
   ],
   "source": [
    "import math\n",
    "#prints 12\n",
    "print(\"the gcd of 60 and 48 is:\",end=\"\")\n",
    "print(math.gcd(60,48))"
   ]
  },
  {
   "cell_type": "code",
   "execution_count": 8,
   "id": "ca7686e2",
   "metadata": {},
   "outputs": [
    {
     "name": "stdout",
     "output_type": "stream",
     "text": [
      "enter the number:60\n",
      "enter the number:48\n",
      "the HCF is 12\n"
     ]
    }
   ],
   "source": [
    "#HCF\n",
    "#define a fnction\n",
    "def compute_hcf(x,y):\n",
    "#choose the smaller number\n",
    " if x > y :\n",
    "    smaller=y\n",
    " else:\n",
    "    smaller=x\n",
    " for i in range(1,smaller+1):\n",
    "    if((x%i==0)and (y%i==0)):\n",
    "        hcf=i\n",
    " return hcf\n",
    "num1=int(input(\"enter the number:\"))\n",
    "num2=int(input(\"enter the number:\"))\n",
    "print(\"the HCF is\",compute_hcf(num1,num2))"
   ]
  },
  {
   "cell_type": "code",
   "execution_count": 6,
   "id": "13fcaeee",
   "metadata": {},
   "outputs": [
    {
     "name": "stdout",
     "output_type": "stream",
     "text": [
      "the lcm is:240\n"
     ]
    }
   ],
   "source": [
    "import math\n",
    "print(\"the lcm is:\",end=\"\")\n",
    "print(math.lcm(60,48))"
   ]
  },
  {
   "cell_type": "code",
   "execution_count": 12,
   "id": "c612691d",
   "metadata": {},
   "outputs": [
    {
     "name": "stdout",
     "output_type": "stream",
     "text": [
      "[12, 4, 3]\n",
      "[7, 5, 8]\n"
     ]
    }
   ],
   "source": [
    "# Program to transpose a matrix using a nested loop\n",
    "\n",
    "X = [[12,7],\n",
    "    [4 ,5],\n",
    "    [3 ,8]]\n",
    "\n",
    "result = [[0,0,0],\n",
    "         [0,0,0]]\n",
    "\n",
    "# iterate through rows\n",
    "for i in range(len(X)):\n",
    "   # iterate through columns\n",
    "   for j in range(len(X[0])):\n",
    "       result[j][i] = X[i][j]\n",
    "\n",
    "for r in result:\n",
    "   print(r)"
   ]
  },
  {
   "cell_type": "code",
   "execution_count": 10,
   "id": "679991ec",
   "metadata": {},
   "outputs": [
    {
     "name": "stdout",
     "output_type": "stream",
     "text": [
      "[17, 15, 4]\n",
      "[10, 12, 9]\n",
      "[11, 13, 18]\n"
     ]
    }
   ],
   "source": [
    "X = [[12,7,3],\n",
    "    [4 ,5,6],\n",
    "    [7 ,8,9]]\n",
    "\n",
    "Y = [[5,8,1],\n",
    "    [6,7,3],\n",
    "    [4,5,9]]\n",
    "\n",
    "result = [[0,0,0],\n",
    "         [0,0,0],\n",
    "         [0,0,0]]\n",
    "\n",
    "# iterate through rows\n",
    "for i in range(len(X)):\n",
    "   # iterate through columns\n",
    "   for j in range(len(X[0])):\n",
    "       result[i][j] = X[i][j] + Y[i][j]\n",
    "\n",
    "for r in result:\n",
    "   print(r)"
   ]
  },
  {
   "cell_type": "code",
   "execution_count": 11,
   "id": "761e7ec9",
   "metadata": {},
   "outputs": [
    {
     "name": "stdout",
     "output_type": "stream",
     "text": [
      "{1: 1, 3: 4, 2: 9}\n"
     ]
    }
   ],
   "source": [
    "dict1 = {1: 1, 2: 9, 3: 4}\n",
    "sorted_values = sorted(dict1.values()) # Sort the values\n",
    "sorted_dict = {}\n",
    "\n",
    "for i in sorted_values:\n",
    "    for k in dict1.keys():\n",
    "        if dict1[k] == i:\n",
    "            sorted_dict[k] = dict1[k]\n",
    "\n",
    "print(sorted_dict)"
   ]
  },
  {
   "cell_type": "code",
   "execution_count": 13,
   "id": "700fbdac",
   "metadata": {},
   "outputs": [
    {
     "name": "stdout",
     "output_type": "stream",
     "text": [
      "2014-07-01 14:43:00\n"
     ]
    }
   ],
   "source": [
    "from datetime import datetime\n",
    "date_object = datetime.strptime('Jul 1 2014 2:43PM', '%b %d %Y %I:%M%p')\n",
    "print(date_object)"
   ]
  },
  {
   "cell_type": "code",
   "execution_count": 14,
   "id": "6ee71af7",
   "metadata": {},
   "outputs": [
    {
     "name": "stdout",
     "output_type": "stream",
     "text": [
      "Reversed Number: 4321\n"
     ]
    }
   ],
   "source": [
    "num = 1234\n",
    "reversed_num = 0\n",
    "\n",
    "while num != 0:\n",
    "    digit = num % 10\n",
    "    reversed_num = reversed_num * 10 + digit\n",
    "    num //= 10\n",
    "\n",
    "print(\"Reversed Number: \" + str(reversed_num))"
   ]
  },
  {
   "cell_type": "code",
   "execution_count": 15,
   "id": "de4deab2",
   "metadata": {},
   "outputs": [
    {
     "name": "stdout",
     "output_type": "stream",
     "text": [
      "Answer = 81\n"
     ]
    }
   ],
   "source": [
    "base = 3\n",
    "exponent = 4\n",
    "\n",
    "result = 1\n",
    "\n",
    "while exponent != 0:\n",
    "    result *= base\n",
    "    exponent-=1\n",
    "\n",
    "print(\"Answer = \" + str(result))"
   ]
  },
  {
   "cell_type": "code",
   "execution_count": 17,
   "id": "21c01fee",
   "metadata": {},
   "outputs": [
    {
     "name": "stdout",
     "output_type": "stream",
     "text": [
      "stop1\n"
     ]
    }
   ],
   "source": [
    "import time\n",
    "\n",
    "def countdown(time_sec):\n",
    "    while time_sec:\n",
    "        mins, secs = divmod(time_sec, 60)\n",
    "        timeformat = '{:02d}:{:02d}'.format(mins, secs)\n",
    "        print(timeformat, end='\\r')\n",
    "        time.sleep(1)\n",
    "        time_sec -= 1\n",
    "\n",
    "    print(\"stop\")\n",
    "\n",
    "countdown(5)"
   ]
  },
  {
   "cell_type": "code",
   "execution_count": 1,
   "id": "92d9e4a6",
   "metadata": {},
   "outputs": [
    {
     "name": "stdout",
     "output_type": "stream",
     "text": [
      "<class 'bytes'>\n",
      "<class 'str'>\n",
      "Lets eat a 🍕!\n"
     ]
    }
   ],
   "source": [
    "byteData = b\"Lets eat a \\xf0\\x9f\\x8d\\x95!\"  \n",
    "# Let's check the type  \n",
    "print(type(byteData))  \n",
    "str1 = byteData.decode('UTF-8')  \n",
    "print(type(str1))  \n",
    "print(str1)  "
   ]
  },
  {
   "cell_type": "code",
   "execution_count": 2,
   "id": "d8b82a1e",
   "metadata": {},
   "outputs": [
    {
     "name": "stdout",
     "output_type": "stream",
     "text": [
      "\n",
      "Input:\n",
      "b'ComputerScience'\n",
      "<class 'bytes'>\n",
      "\n",
      "Output:\n",
      "ComputerScience\n",
      "<class 'str'>\n"
     ]
    }
   ],
   "source": [
    "#program to convert byte to string\n",
    "# Program for converting bytes\n",
    "# to string using decode()\n",
    "\n",
    "data = b'ComputerScience'\n",
    "\n",
    "# display input\n",
    "print('\\nInput:')\n",
    "print(data)\n",
    "print(type(data))\n",
    "\n",
    "# converting\n",
    "output = data.decode()\n",
    "\n",
    "# display output\n",
    "print('\\nOutput:')\n",
    "print(output)\n",
    "print(type(output))\n"
   ]
  },
  {
   "cell_type": "code",
   "execution_count": 6,
   "id": "eacf59df",
   "metadata": {},
   "outputs": [],
   "source": [
    "# Python program to merge two files \n",
    "data = data2 = \"\" \n",
    "  \n",
    "# Reading data from first file \n",
    "with open('f1.txt') as fp: \n",
    "    data= fp.read() \n",
    "with open('f2.txt') as fp: \n",
    "    data2 = fp.read() \n",
    "# Merging two files into one another file \n",
    "data += \"\\n\"\n",
    "data += data2 \n",
    "with open ('f3.txt', 'w') as fp: \n",
    "    fp.write(data)"
   ]
  },
  {
   "cell_type": "code",
   "execution_count": 17,
   "id": "5dc48ae5",
   "metadata": {},
   "outputs": [
    {
     "name": "stdout",
     "output_type": "stream",
     "text": [
      "Following the BFS\n",
      "1 2 10 3 8 4 9 5 6 7 "
     ]
    }
   ],
   "source": [
    "graph={\n",
    "    '1':['2','10'],\n",
    "    '2':['3','8'],\n",
    "    '3':['4'],\n",
    "    '4':['5','6','7'],\n",
    "    '5':[],\n",
    "    '6':[],\n",
    "    '7':[],\n",
    "    '8':['9'],\n",
    "    '9':[],\n",
    "    '10':[]\n",
    "}\n",
    "visited=[]\n",
    "queue=[]\n",
    "def bfs(visited,graph,node):\n",
    "    visited.append(node)\n",
    "    queue.append(node)\n",
    "    while queue:\n",
    "        m=queue.pop(0)\n",
    "        print(m,end=\" \")\n",
    "        for neighbour in graph[m]:\n",
    "            if neighbour not in visited:\n",
    "                visited.append(neighbour)\n",
    "                queue.append(neighbour)\n",
    "print(\"Following the BFS\")\n",
    "bfs(visited,graph,'1')"
   ]
  },
  {
   "cell_type": "code",
   "execution_count": 2,
   "id": "9200755d",
   "metadata": {},
   "outputs": [
    {
     "name": "stdout",
     "output_type": "stream",
     "text": [
      "Following is the Depth-First Search\n",
      "5\n",
      "3\n",
      "2\n",
      "1\n",
      "4\n",
      "8\n",
      "7\n",
      "6\n"
     ]
    }
   ],
   "source": [
    "# Using a Python dictionary to act as an adjacency list\n",
    "graph = {\n",
    "    '5' : ['3','7'],\n",
    "    '3' : ['2', '4'],\n",
    "    '7' : ['6'],\n",
    "    '6': [],\n",
    "    '2' : ['1'],\n",
    "    '1':[],\n",
    "    '4' : ['8'],\n",
    "    '8' : []\n",
    "}\n",
    "visited = set() # Set to keep track of visited nodes of graph.\n",
    "def dfs(visited, graph, node): #function for dfs\n",
    "    if node not in visited:\n",
    "        print (node)\n",
    "        visited.add(node)\n",
    "        for neighbour in graph[node]:\n",
    "            dfs(visited, graph, neighbour)\n",
    "\n",
    "# Driver Code\n",
    "print(\"Following is the Depth-First Search\")\n",
    "dfs(visited, graph, '5')"
   ]
  },
  {
   "cell_type": "code",
   "execution_count": 3,
   "id": "1216b294",
   "metadata": {},
   "outputs": [
    {
     "name": "stdout",
     "output_type": "stream",
     "text": [
      "Element is present at index 5\n"
     ]
    }
   ],
   "source": [
    "# Iterative Binary Search Function method Python Implementation  \n",
    "# It returns index of n in given list1 if present,   \n",
    "# else returns -1   \n",
    "def binary_search(list1, n):  \n",
    "    low = 0  \n",
    "    high = len(list1) - 1  \n",
    "    mid = 0  \n",
    "  \n",
    "    while low <= high:  \n",
    "        # for get integer result   \n",
    "        mid = (high + low) // 2  \n",
    "  \n",
    "        # Check if n is present at mid   \n",
    "        if list1[mid] < n:  \n",
    "            low = mid + 1  \n",
    "  \n",
    "        # If n is greater, compare to the right of mid   \n",
    "        elif list1[mid] > n:  \n",
    "            high = mid - 1  \n",
    "  \n",
    "        # If n is smaller, compared to the left of mid  \n",
    "        else:  \n",
    "            return mid  \n",
    "  \n",
    "            # element was not present in the list, return -1  \n",
    "    return -1  \n",
    "  \n",
    "  \n",
    "# Initial list1  \n",
    "list1 = [12, 24, 32, 39, 45, 50, 54]  \n",
    "n = 50\n",
    "  \n",
    "# Function call   \n",
    "result = binary_search(list1, n)  \n",
    "  \n",
    "if result != -1:  \n",
    "    print(\"Element is present at index\", str(result))  \n",
    "else:  \n",
    "    print(\"Element is not present in list1\")  \n"
   ]
  },
  {
   "cell_type": "code",
   "execution_count": null,
   "id": "62fb8090",
   "metadata": {},
   "outputs": [],
   "source": []
  }
 ],
 "metadata": {
  "kernelspec": {
   "display_name": "Python 3 (ipykernel)",
   "language": "python",
   "name": "python3"
  },
  "language_info": {
   "codemirror_mode": {
    "name": "ipython",
    "version": 3
   },
   "file_extension": ".py",
   "mimetype": "text/x-python",
   "name": "python",
   "nbconvert_exporter": "python",
   "pygments_lexer": "ipython3",
   "version": "3.9.7"
  }
 },
 "nbformat": 4,
 "nbformat_minor": 5
}
